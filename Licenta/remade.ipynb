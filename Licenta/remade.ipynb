{
  "cells": [
    {
      "cell_type": "code",
      "execution_count": 1,
      "metadata": {
        "colab": {
          "base_uri": "https://localhost:8080/"
        },
        "id": "Zv5fj9dJ4hys",
        "outputId": "c29a0bfd-4ec5-46ce-a1c1-143a2f0a21f5"
      },
      "outputs": [
        {
          "name": "stdout",
          "output_type": "stream",
          "text": [
            "Requirement already satisfied: matplotlib in c:\\users\\bance\\appdata\\local\\programs\\python\\python312\\lib\\site-packages (3.8.3)\n",
            "Requirement already satisfied: contourpy>=1.0.1 in c:\\users\\bance\\appdata\\local\\programs\\python\\python312\\lib\\site-packages (from matplotlib) (1.2.0)\n",
            "Requirement already satisfied: cycler>=0.10 in c:\\users\\bance\\appdata\\local\\programs\\python\\python312\\lib\\site-packages (from matplotlib) (0.12.1)\n",
            "Requirement already satisfied: fonttools>=4.22.0 in c:\\users\\bance\\appdata\\local\\programs\\python\\python312\\lib\\site-packages (from matplotlib) (4.50.0)\n",
            "Requirement already satisfied: kiwisolver>=1.3.1 in c:\\users\\bance\\appdata\\local\\programs\\python\\python312\\lib\\site-packages (from matplotlib) (1.4.5)\n",
            "Requirement already satisfied: numpy<2,>=1.21 in c:\\users\\bance\\appdata\\local\\programs\\python\\python312\\lib\\site-packages (from matplotlib) (1.26.4)\n",
            "Requirement already satisfied: packaging>=20.0 in c:\\users\\bance\\appdata\\roaming\\python\\python312\\site-packages (from matplotlib) (24.0)\n",
            "Requirement already satisfied: pillow>=8 in c:\\users\\bance\\appdata\\local\\programs\\python\\python312\\lib\\site-packages (from matplotlib) (10.2.0)\n",
            "Requirement already satisfied: pyparsing>=2.3.1 in c:\\users\\bance\\appdata\\local\\programs\\python\\python312\\lib\\site-packages (from matplotlib) (3.1.2)\n",
            "Requirement already satisfied: python-dateutil>=2.7 in c:\\users\\bance\\appdata\\roaming\\python\\python312\\site-packages (from matplotlib) (2.9.0.post0)\n",
            "Requirement already satisfied: six>=1.5 in c:\\users\\bance\\appdata\\roaming\\python\\python312\\site-packages (from python-dateutil>=2.7->matplotlib) (1.16.0)\n"
          ]
        },
        {
          "name": "stderr",
          "output_type": "stream",
          "text": [
            "\n",
            "[notice] A new release of pip is available: 24.0 -> 24.1.1\n",
            "[notice] To update, run: python.exe -m pip install --upgrade pip\n"
          ]
        },
        {
          "name": "stdout",
          "output_type": "stream",
          "text": [
            "Looking in indexes: https://download.pytorch.org/whl/cu121\n",
            "Requirement already satisfied: torch in c:\\users\\bance\\appdata\\local\\programs\\python\\python312\\lib\\site-packages (2.2.2+cu121)\n",
            "Requirement already satisfied: torchvision in c:\\users\\bance\\appdata\\local\\programs\\python\\python312\\lib\\site-packages (0.17.2+cu121)\n",
            "Requirement already satisfied: torchaudio in c:\\users\\bance\\appdata\\local\\programs\\python\\python312\\lib\\site-packages (2.2.2+cu121)\n",
            "Requirement already satisfied: filelock in c:\\users\\bance\\appdata\\local\\programs\\python\\python312\\lib\\site-packages (from torch) (3.13.1)\n",
            "Requirement already satisfied: typing-extensions>=4.8.0 in c:\\users\\bance\\appdata\\local\\programs\\python\\python312\\lib\\site-packages (from torch) (4.10.0)\n",
            "Requirement already satisfied: sympy in c:\\users\\bance\\appdata\\local\\programs\\python\\python312\\lib\\site-packages (from torch) (1.12)\n",
            "Requirement already satisfied: networkx in c:\\users\\bance\\appdata\\local\\programs\\python\\python312\\lib\\site-packages (from torch) (3.2.1)\n",
            "Requirement already satisfied: jinja2 in c:\\users\\bance\\appdata\\local\\programs\\python\\python312\\lib\\site-packages (from torch) (3.1.2)\n",
            "Requirement already satisfied: fsspec in c:\\users\\bance\\appdata\\local\\programs\\python\\python312\\lib\\site-packages (from torch) (2024.3.1)\n",
            "Requirement already satisfied: numpy in c:\\users\\bance\\appdata\\local\\programs\\python\\python312\\lib\\site-packages (from torchvision) (1.26.4)\n",
            "Requirement already satisfied: pillow!=8.3.*,>=5.3.0 in c:\\users\\bance\\appdata\\local\\programs\\python\\python312\\lib\\site-packages (from torchvision) (10.2.0)\n",
            "Requirement already satisfied: MarkupSafe>=2.0 in c:\\users\\bance\\appdata\\local\\programs\\python\\python312\\lib\\site-packages (from jinja2->torch) (2.1.5)\n",
            "Requirement already satisfied: mpmath>=0.19 in c:\\users\\bance\\appdata\\local\\programs\\python\\python312\\lib\\site-packages (from sympy->torch) (1.3.0)\n"
          ]
        },
        {
          "name": "stderr",
          "output_type": "stream",
          "text": [
            "\n",
            "[notice] A new release of pip is available: 24.0 -> 24.1.1\n",
            "[notice] To update, run: python.exe -m pip install --upgrade pip\n"
          ]
        },
        {
          "name": "stdout",
          "output_type": "stream",
          "text": [
            "Requirement already satisfied: numpy in c:\\users\\bance\\appdata\\local\\programs\\python\\python312\\lib\\site-packages (1.26.4)\n"
          ]
        },
        {
          "name": "stderr",
          "output_type": "stream",
          "text": [
            "\n",
            "[notice] A new release of pip is available: 24.0 -> 24.1.1\n",
            "[notice] To update, run: python.exe -m pip install --upgrade pip\n"
          ]
        }
      ],
      "source": [
        "\n",
        "!pip install matplotlib\n",
        "!pip install torch torchvision torchaudio --index-url https://download.pytorch.org/whl/cu121\n",
        "!pip install numpy "
      ]
    },
    {
      "cell_type": "code",
      "execution_count": null,
      "metadata": {
        "id": "GmHypqtlCnuI"
      },
      "outputs": [],
      "source": []
    },
    {
      "cell_type": "code",
      "execution_count": 2,
      "metadata": {
        "colab": {
          "base_uri": "https://localhost:8080/"
        },
        "id": "DfnVuqgI4hys",
        "outputId": "95ca40d2-8998-4526-fa3e-03f4268a83c0"
      },
      "outputs": [
        {
          "name": "stdout",
          "output_type": "stream",
          "text": [
            "ResNet(\n",
            "  (conv1): Conv2d(3, 64, kernel_size=(7, 7), stride=(2, 2), padding=(3, 3), bias=False)\n",
            "  (bn1): BatchNorm2d(64, eps=1e-05, momentum=0.1, affine=True, track_running_stats=True)\n",
            "  (relu): ReLU(inplace=True)\n",
            "  (maxpool): MaxPool2d(kernel_size=3, stride=2, padding=1, dilation=1, ceil_mode=False)\n",
            "  (layer1): Sequential(\n",
            "    (0): BasicBlock(\n",
            "      (conv1): Conv2d(64, 64, kernel_size=(3, 3), stride=(1, 1), padding=(1, 1), bias=False)\n",
            "      (bn1): BatchNorm2d(64, eps=1e-05, momentum=0.1, affine=True, track_running_stats=True)\n",
            "      (relu): ReLU(inplace=True)\n",
            "      (conv2): Conv2d(64, 64, kernel_size=(3, 3), stride=(1, 1), padding=(1, 1), bias=False)\n",
            "      (bn2): BatchNorm2d(64, eps=1e-05, momentum=0.1, affine=True, track_running_stats=True)\n",
            "    )\n",
            "    (1): BasicBlock(\n",
            "      (conv1): Conv2d(64, 64, kernel_size=(3, 3), stride=(1, 1), padding=(1, 1), bias=False)\n",
            "      (bn1): BatchNorm2d(64, eps=1e-05, momentum=0.1, affine=True, track_running_stats=True)\n",
            "      (relu): ReLU(inplace=True)\n",
            "      (conv2): Conv2d(64, 64, kernel_size=(3, 3), stride=(1, 1), padding=(1, 1), bias=False)\n",
            "      (bn2): BatchNorm2d(64, eps=1e-05, momentum=0.1, affine=True, track_running_stats=True)\n",
            "    )\n",
            "  )\n",
            "  (layer2): Sequential(\n",
            "    (0): BasicBlock(\n",
            "      (conv1): Conv2d(64, 128, kernel_size=(3, 3), stride=(2, 2), padding=(1, 1), bias=False)\n",
            "      (bn1): BatchNorm2d(128, eps=1e-05, momentum=0.1, affine=True, track_running_stats=True)\n",
            "      (relu): ReLU(inplace=True)\n",
            "      (conv2): Conv2d(128, 128, kernel_size=(3, 3), stride=(1, 1), padding=(1, 1), bias=False)\n",
            "      (bn2): BatchNorm2d(128, eps=1e-05, momentum=0.1, affine=True, track_running_stats=True)\n",
            "      (downsample): Sequential(\n",
            "        (0): Conv2d(64, 128, kernel_size=(1, 1), stride=(2, 2), bias=False)\n",
            "        (1): BatchNorm2d(128, eps=1e-05, momentum=0.1, affine=True, track_running_stats=True)\n",
            "      )\n",
            "    )\n",
            "    (1): BasicBlock(\n",
            "      (conv1): Conv2d(128, 128, kernel_size=(3, 3), stride=(1, 1), padding=(1, 1), bias=False)\n",
            "      (bn1): BatchNorm2d(128, eps=1e-05, momentum=0.1, affine=True, track_running_stats=True)\n",
            "      (relu): ReLU(inplace=True)\n",
            "      (conv2): Conv2d(128, 128, kernel_size=(3, 3), stride=(1, 1), padding=(1, 1), bias=False)\n",
            "      (bn2): BatchNorm2d(128, eps=1e-05, momentum=0.1, affine=True, track_running_stats=True)\n",
            "    )\n",
            "  )\n",
            "  (layer3): Sequential(\n",
            "    (0): BasicBlock(\n",
            "      (conv1): Conv2d(128, 256, kernel_size=(3, 3), stride=(2, 2), padding=(1, 1), bias=False)\n",
            "      (bn1): BatchNorm2d(256, eps=1e-05, momentum=0.1, affine=True, track_running_stats=True)\n",
            "      (relu): ReLU(inplace=True)\n",
            "      (conv2): Conv2d(256, 256, kernel_size=(3, 3), stride=(1, 1), padding=(1, 1), bias=False)\n",
            "      (bn2): BatchNorm2d(256, eps=1e-05, momentum=0.1, affine=True, track_running_stats=True)\n",
            "      (downsample): Sequential(\n",
            "        (0): Conv2d(128, 256, kernel_size=(1, 1), stride=(2, 2), bias=False)\n",
            "        (1): BatchNorm2d(256, eps=1e-05, momentum=0.1, affine=True, track_running_stats=True)\n",
            "      )\n",
            "    )\n",
            "    (1): BasicBlock(\n",
            "      (conv1): Conv2d(256, 256, kernel_size=(3, 3), stride=(1, 1), padding=(1, 1), bias=False)\n",
            "      (bn1): BatchNorm2d(256, eps=1e-05, momentum=0.1, affine=True, track_running_stats=True)\n",
            "      (relu): ReLU(inplace=True)\n",
            "      (conv2): Conv2d(256, 256, kernel_size=(3, 3), stride=(1, 1), padding=(1, 1), bias=False)\n",
            "      (bn2): BatchNorm2d(256, eps=1e-05, momentum=0.1, affine=True, track_running_stats=True)\n",
            "    )\n",
            "  )\n",
            "  (layer4): Sequential(\n",
            "    (0): BasicBlock(\n",
            "      (conv1): Conv2d(256, 512, kernel_size=(3, 3), stride=(2, 2), padding=(1, 1), bias=False)\n",
            "      (bn1): BatchNorm2d(512, eps=1e-05, momentum=0.1, affine=True, track_running_stats=True)\n",
            "      (relu): ReLU(inplace=True)\n",
            "      (conv2): Conv2d(512, 512, kernel_size=(3, 3), stride=(1, 1), padding=(1, 1), bias=False)\n",
            "      (bn2): BatchNorm2d(512, eps=1e-05, momentum=0.1, affine=True, track_running_stats=True)\n",
            "      (downsample): Sequential(\n",
            "        (0): Conv2d(256, 512, kernel_size=(1, 1), stride=(2, 2), bias=False)\n",
            "        (1): BatchNorm2d(512, eps=1e-05, momentum=0.1, affine=True, track_running_stats=True)\n",
            "      )\n",
            "    )\n",
            "    (1): BasicBlock(\n",
            "      (conv1): Conv2d(512, 512, kernel_size=(3, 3), stride=(1, 1), padding=(1, 1), bias=False)\n",
            "      (bn1): BatchNorm2d(512, eps=1e-05, momentum=0.1, affine=True, track_running_stats=True)\n",
            "      (relu): ReLU(inplace=True)\n",
            "      (conv2): Conv2d(512, 512, kernel_size=(3, 3), stride=(1, 1), padding=(1, 1), bias=False)\n",
            "      (bn2): BatchNorm2d(512, eps=1e-05, momentum=0.1, affine=True, track_running_stats=True)\n",
            "    )\n",
            "  )\n",
            "  (avgpool): AdaptiveAvgPool2d(output_size=(1, 1))\n",
            "  (fc): Linear(in_features=512, out_features=1000, bias=True)\n",
            ")\n"
          ]
        },
        {
          "name": "stderr",
          "output_type": "stream",
          "text": [
            "c:\\Users\\bance\\AppData\\Local\\Programs\\Python\\Python312\\Lib\\site-packages\\torchvision\\models\\_utils.py:208: UserWarning: The parameter 'pretrained' is deprecated since 0.13 and may be removed in the future, please use 'weights' instead.\n",
            "  warnings.warn(\n",
            "c:\\Users\\bance\\AppData\\Local\\Programs\\Python\\Python312\\Lib\\site-packages\\torchvision\\models\\_utils.py:223: UserWarning: Arguments other than a weight enum or `None` for 'weights' are deprecated since 0.13 and may be removed in the future. The current behavior is equivalent to passing `weights=ResNet18_Weights.IMAGENET1K_V1`. You can also use `weights=ResNet18_Weights.DEFAULT` to get the most up-to-date weights.\n",
            "  warnings.warn(msg)\n",
            "c:\\Users\\bance\\AppData\\Local\\Programs\\Python\\Python312\\Lib\\site-packages\\torchvision\\models\\_utils.py:223: UserWarning: Arguments other than a weight enum or `None` for 'weights' are deprecated since 0.13 and may be removed in the future. The current behavior is equivalent to passing `weights=None`.\n",
            "  warnings.warn(msg)\n"
          ]
        }
      ],
      "source": [
        "import torchvision.models as models\n",
        "\n",
        "# Load a pre-trained ResNet-34\n",
        "resnet18 = models.resnet18(pretrained=True)\n",
        "\n",
        "# Load an untrained ResNet-34\n",
        "resnet18_untrained = models.resnet18(pretrained=False)\n",
        "\n",
        "print(resnet18)"
      ]
    },
    {
      "cell_type": "code",
      "execution_count": 3,
      "metadata": {
        "id": "4nSzodqV4hyt"
      },
      "outputs": [],
      "source": [
        "import torch\n",
        "import torch.nn as nn\n",
        "import torch.optim as optim\n",
        "import torchvision\n",
        "import torchvision.transforms as transforms\n",
        "from sklearn.metrics import roc_auc_score\n",
        "import numpy as np\n",
        "import matplotlib.pyplot as plt"
      ]
    },
    {
      "cell_type": "code",
      "execution_count": 4,
      "metadata": {
        "colab": {
          "base_uri": "https://localhost:8080/"
        },
        "id": "YSXOVddD4hyt",
        "outputId": "48875ce5-43e1-4a45-cd57-c2b1ca284f1a"
      },
      "outputs": [
        {
          "name": "stdout",
          "output_type": "stream",
          "text": [
            "Files already downloaded and verified\n",
            "Files already downloaded and verified\n"
          ]
        }
      ],
      "source": [
        "transform = transforms.Compose([\n",
        "    transforms.ToTensor()\n",
        "])\n",
        "\n",
        "# Load the CIFAR-10 dataset\n",
        "trainset = torchvision.datasets.CIFAR10(root='./data', train=True, download=True, transform=transform)\n",
        "trainloader = torch.utils.data.DataLoader(trainset, batch_size=100, shuffle=True, num_workers=2)\n",
        "\n",
        "testset = torchvision.datasets.CIFAR10(root='./data', train=False, download=True, transform=transform)\n",
        "testloader = torch.utils.data.DataLoader(testset, batch_size=100, shuffle=False, num_workers=2)\n",
        "adversarial_testloader = torch.utils.data.DataLoader(testset, batch_size=1, shuffle=False, num_workers=2)\n"
      ]
    },
    {
      "cell_type": "code",
      "execution_count": 5,
      "metadata": {
        "id": "b9Dvp21O4hyt"
      },
      "outputs": [],
      "source": [
        "class CNNWith5HiddenLayers(nn.Module):\n",
        "    def __init__(self):\n",
        "        super(CNNWith5HiddenLayers, self).__init__()\n",
        "        self.conv1 = nn.Conv2d(3, 32, 3, padding=1)     # Hidden layer 1\n",
        "        self.conv2 = nn.Conv2d(32, 64, 3, padding=1)    # Hidden layer 2\n",
        "        self.conv3 = nn.Conv2d(64, 128, 3, padding=1)   # Hidden layer 3\n",
        "        self.conv4 = nn.Conv2d(128, 256, 3, padding=1)  # Hidden layer 4\n",
        "        self.pool = nn.MaxPool2d(2, 2)                  # Auxiliary layer (Pooling)\n",
        "        self.fc1 = nn.Linear(256 * 2 * 2, 512)          # Hidden layer 5 (Fully connected)\n",
        "        self.fc2 = nn.Linear(512, 10)                   # Output layer\n",
        "        self.relu = nn.ReLU()                           # Activation function\n",
        "        self.dropout = nn.Dropout(0.5)                  # Auxiliary layer (Dropout)\n",
        "\n",
        "    def forward(self, x):\n",
        "        x = self.pool(self.relu(self.conv1(x)))\n",
        "        x = self.pool(self.relu(self.conv2(x)))\n",
        "        x = self.pool(self.relu(self.conv3(x)))\n",
        "        x = self.pool(self.relu(self.conv4(x)))\n",
        "        x = x.view(x.size(0), -1)  # Flatten the tensor\n",
        "        x = self.relu(self.fc1(x))\n",
        "        x = self.dropout(x)\n",
        "        x = self.fc2(x)\n",
        "        return x\n"
      ]
    },
    {
      "cell_type": "code",
      "execution_count": 6,
      "metadata": {
        "colab": {
          "base_uri": "https://localhost:8080/"
        },
        "id": "n3d03kGI4hyt",
        "outputId": "846de920-7a99-4434-8fd9-a030fd162e57"
      },
      "outputs": [
        {
          "name": "stdout",
          "output_type": "stream",
          "text": [
            "Using device: cuda\n"
          ]
        }
      ],
      "source": [
        "device = torch.device(\"cuda\" if torch.cuda.is_available() else \"cpu\")\n",
        "print(f\"Using device: {device}\")"
      ]
    },
    {
      "cell_type": "code",
      "execution_count": 7,
      "metadata": {
        "id": "t1V_Qz0B4hyt"
      },
      "outputs": [],
      "source": [
        "def train_model(model, trainloader, criterion, optimizer, device, epochs=25):\n",
        "    train_loss = []\n",
        "    train_accuracy = []\n",
        "\n",
        "    for epoch in range(epochs):\n",
        "        model.train()  # Set the model to training mode\n",
        "        running_loss = 0.0\n",
        "        correct = 0\n",
        "        total = 0\n",
        "        for i, (inputs, labels) in enumerate(trainloader):\n",
        "            inputs, labels = inputs.to(device), labels.to(device)\n",
        "\n",
        "            optimizer.zero_grad()\n",
        "            outputs = model(inputs)\n",
        "            loss = criterion(outputs, labels)\n",
        "            loss.backward()\n",
        "            optimizer.step()\n",
        "            running_loss += loss.item()\n",
        "\n",
        "            # Calculate accuracy\n",
        "            _, predicted = torch.max(outputs.data, 1)\n",
        "            total += labels.size(0)\n",
        "            correct += (predicted == labels).sum().item()\n",
        "\n",
        "            if i % 100 == 99:  # Print every 100 batches\n",
        "                print(f\"Epoch [{epoch+1}/{epochs}], Batch [{i+1}/{len(trainloader)}], Loss: {loss.item():.4f}\")\n",
        "\n",
        "        accuracy = 100 * correct / total\n",
        "        train_loss.append(running_loss / len(trainloader))\n",
        "        train_accuracy.append(accuracy)\n",
        "        print(f\"Epoch [{epoch+1}/{epochs}], Average Loss: {running_loss/len(trainloader):.4f}, Accuracy: {accuracy:.2f}%\")\n",
        "\n",
        "    return train_loss, train_accuracy\n"
      ]
    },
    {
      "cell_type": "code",
      "execution_count": 8,
      "metadata": {
        "id": "uAmbpJiN4hyu"
      },
      "outputs": [],
      "source": [
        "def evaluate_model(model, testloader, device):\n",
        "    model.eval()  # Set the model to evaluation mode\n",
        "    correct = 0\n",
        "    total = 0\n",
        "    all_labels = []\n",
        "    all_outputs = []\n",
        "    with torch.inference_mode():\n",
        "        for i, (inputs, labels) in enumerate(testloader):\n",
        "            inputs, labels = inputs.to(device), labels.to(device)\n",
        "            outputs = model(inputs)\n",
        "            _, predicted = torch.max(outputs.data, 1)\n",
        "            total += labels.size(0)\n",
        "            correct += (predicted == labels).sum().item()\n",
        "\n",
        "            all_labels.extend(labels.cpu().numpy())\n",
        "            all_outputs.extend(torch.nn.functional.softmax(outputs, dim=1).cpu().numpy())\n",
        "\n",
        "    all_labels = np.array(all_labels)\n",
        "    all_outputs = np.array(all_outputs)\n",
        "\n",
        "    # Compute AUC for each class and average them\n",
        "    auc_scores = []\n",
        "    for i in range(10):  # Assuming 10 classes for CIFAR-10\n",
        "        auc = roc_auc_score(all_labels == i, all_outputs[:, i])\n",
        "        auc_scores.append(auc)\n",
        "\n",
        "    mean_auc = np.mean(auc_scores)\n",
        "    accuracy = 100 * correct / total\n",
        "    print(f\"AUC scores for each class: {auc_scores}\")\n",
        "    print(f\"Accuracy: {accuracy:.2f}%\")\n",
        "    return mean_auc\n"
      ]
    },
    {
      "cell_type": "code",
      "execution_count": 9,
      "metadata": {
        "colab": {
          "base_uri": "https://localhost:8080/"
        },
        "id": "kHqCvE0B4hyu",
        "outputId": "9221943e-bd2b-426c-ce8c-e17c6e95e2be"
      },
      "outputs": [
        {
          "name": "stdout",
          "output_type": "stream",
          "text": [
            "Epoch [1/25], Batch [100/500], Loss: 1.8231\n",
            "Epoch [1/25], Batch [200/500], Loss: 1.6149\n",
            "Epoch [1/25], Batch [300/500], Loss: 1.5122\n",
            "Epoch [1/25], Batch [400/500], Loss: 1.1342\n",
            "Epoch [1/25], Batch [500/500], Loss: 1.3841\n",
            "Epoch [1/25], Average Loss: 1.6559, Accuracy: 37.92%\n",
            "Epoch [2/25], Batch [100/500], Loss: 1.0901\n",
            "Epoch [2/25], Batch [200/500], Loss: 1.2070\n",
            "Epoch [2/25], Batch [300/500], Loss: 1.0934\n",
            "Epoch [2/25], Batch [400/500], Loss: 1.1902\n",
            "Epoch [2/25], Batch [500/500], Loss: 1.1245\n",
            "Epoch [2/25], Average Loss: 1.1986, Accuracy: 56.73%\n",
            "Epoch [3/25], Batch [100/500], Loss: 1.0264\n",
            "Epoch [3/25], Batch [200/500], Loss: 1.1884\n",
            "Epoch [3/25], Batch [300/500], Loss: 1.0446\n",
            "Epoch [3/25], Batch [400/500], Loss: 0.8335\n",
            "Epoch [3/25], Batch [500/500], Loss: 0.9378\n",
            "Epoch [3/25], Average Loss: 0.9978, Accuracy: 64.64%\n",
            "Epoch [4/25], Batch [100/500], Loss: 0.7817\n",
            "Epoch [4/25], Batch [200/500], Loss: 0.8867\n",
            "Epoch [4/25], Batch [300/500], Loss: 0.8751\n",
            "Epoch [4/25], Batch [400/500], Loss: 0.8848\n",
            "Epoch [4/25], Batch [500/500], Loss: 0.8237\n",
            "Epoch [4/25], Average Loss: 0.8522, Accuracy: 69.98%\n",
            "Epoch [5/25], Batch [100/500], Loss: 0.7664\n",
            "Epoch [5/25], Batch [200/500], Loss: 0.8142\n",
            "Epoch [5/25], Batch [300/500], Loss: 0.7786\n",
            "Epoch [5/25], Batch [400/500], Loss: 0.8240\n",
            "Epoch [5/25], Batch [500/500], Loss: 0.7376\n",
            "Epoch [5/25], Average Loss: 0.7443, Accuracy: 74.24%\n",
            "Epoch [6/25], Batch [100/500], Loss: 0.6774\n",
            "Epoch [6/25], Batch [200/500], Loss: 0.6291\n",
            "Epoch [6/25], Batch [300/500], Loss: 0.5856\n",
            "Epoch [6/25], Batch [400/500], Loss: 0.7317\n",
            "Epoch [6/25], Batch [500/500], Loss: 0.7272\n",
            "Epoch [6/25], Average Loss: 0.6531, Accuracy: 77.32%\n",
            "Epoch [7/25], Batch [100/500], Loss: 0.4162\n",
            "Epoch [7/25], Batch [200/500], Loss: 0.5437\n",
            "Epoch [7/25], Batch [300/500], Loss: 0.5237\n",
            "Epoch [7/25], Batch [400/500], Loss: 0.4651\n",
            "Epoch [7/25], Batch [500/500], Loss: 0.5989\n",
            "Epoch [7/25], Average Loss: 0.5665, Accuracy: 80.23%\n",
            "Epoch [8/25], Batch [100/500], Loss: 0.6976\n",
            "Epoch [8/25], Batch [200/500], Loss: 0.4852\n",
            "Epoch [8/25], Batch [300/500], Loss: 0.4576\n",
            "Epoch [8/25], Batch [400/500], Loss: 0.5451\n",
            "Epoch [8/25], Batch [500/500], Loss: 0.3564\n",
            "Epoch [8/25], Average Loss: 0.4974, Accuracy: 82.67%\n",
            "Epoch [9/25], Batch [100/500], Loss: 0.4872\n",
            "Epoch [9/25], Batch [200/500], Loss: 0.4640\n",
            "Epoch [9/25], Batch [300/500], Loss: 0.3582\n",
            "Epoch [9/25], Batch [400/500], Loss: 0.4624\n",
            "Epoch [9/25], Batch [500/500], Loss: 0.4448\n",
            "Epoch [9/25], Average Loss: 0.4337, Accuracy: 84.76%\n",
            "Epoch [10/25], Batch [100/500], Loss: 0.3682\n",
            "Epoch [10/25], Batch [200/500], Loss: 0.4935\n",
            "Epoch [10/25], Batch [300/500], Loss: 0.5827\n",
            "Epoch [10/25], Batch [400/500], Loss: 0.4340\n",
            "Epoch [10/25], Batch [500/500], Loss: 0.3884\n",
            "Epoch [10/25], Average Loss: 0.3635, Accuracy: 87.27%\n",
            "Epoch [11/25], Batch [100/500], Loss: 0.2422\n",
            "Epoch [11/25], Batch [200/500], Loss: 0.5052\n",
            "Epoch [11/25], Batch [300/500], Loss: 0.3033\n",
            "Epoch [11/25], Batch [400/500], Loss: 0.2577\n",
            "Epoch [11/25], Batch [500/500], Loss: 0.3885\n",
            "Epoch [11/25], Average Loss: 0.3198, Accuracy: 88.72%\n",
            "Epoch [12/25], Batch [100/500], Loss: 0.1496\n",
            "Epoch [12/25], Batch [200/500], Loss: 0.1788\n",
            "Epoch [12/25], Batch [300/500], Loss: 0.2267\n",
            "Epoch [12/25], Batch [400/500], Loss: 0.2375\n",
            "Epoch [12/25], Batch [500/500], Loss: 0.2698\n",
            "Epoch [12/25], Average Loss: 0.2783, Accuracy: 90.06%\n",
            "Epoch [13/25], Batch [100/500], Loss: 0.2632\n",
            "Epoch [13/25], Batch [200/500], Loss: 0.2217\n",
            "Epoch [13/25], Batch [300/500], Loss: 0.2776\n",
            "Epoch [13/25], Batch [400/500], Loss: 0.2453\n",
            "Epoch [13/25], Batch [500/500], Loss: 0.3064\n",
            "Epoch [13/25], Average Loss: 0.2327, Accuracy: 91.68%\n",
            "Epoch [14/25], Batch [100/500], Loss: 0.1487\n",
            "Epoch [14/25], Batch [200/500], Loss: 0.0786\n",
            "Epoch [14/25], Batch [300/500], Loss: 0.2193\n",
            "Epoch [14/25], Batch [400/500], Loss: 0.3415\n",
            "Epoch [14/25], Batch [500/500], Loss: 0.1135\n",
            "Epoch [14/25], Average Loss: 0.2011, Accuracy: 92.86%\n",
            "Epoch [15/25], Batch [100/500], Loss: 0.1724\n",
            "Epoch [15/25], Batch [200/500], Loss: 0.1455\n",
            "Epoch [15/25], Batch [300/500], Loss: 0.1493\n",
            "Epoch [15/25], Batch [400/500], Loss: 0.1536\n",
            "Epoch [15/25], Batch [500/500], Loss: 0.1870\n",
            "Epoch [15/25], Average Loss: 0.1793, Accuracy: 93.57%\n",
            "Epoch [16/25], Batch [100/500], Loss: 0.1506\n",
            "Epoch [16/25], Batch [200/500], Loss: 0.1915\n",
            "Epoch [16/25], Batch [300/500], Loss: 0.1962\n",
            "Epoch [16/25], Batch [400/500], Loss: 0.0924\n",
            "Epoch [16/25], Batch [500/500], Loss: 0.2387\n",
            "Epoch [16/25], Average Loss: 0.1589, Accuracy: 94.49%\n",
            "Epoch [17/25], Batch [100/500], Loss: 0.1631\n",
            "Epoch [17/25], Batch [200/500], Loss: 0.1220\n",
            "Epoch [17/25], Batch [300/500], Loss: 0.1424\n",
            "Epoch [17/25], Batch [400/500], Loss: 0.2159\n",
            "Epoch [17/25], Batch [500/500], Loss: 0.1128\n",
            "Epoch [17/25], Average Loss: 0.1527, Accuracy: 94.59%\n",
            "Epoch [18/25], Batch [100/500], Loss: 0.1193\n",
            "Epoch [18/25], Batch [200/500], Loss: 0.1513\n",
            "Epoch [18/25], Batch [300/500], Loss: 0.1190\n",
            "Epoch [18/25], Batch [400/500], Loss: 0.1900\n",
            "Epoch [18/25], Batch [500/500], Loss: 0.1020\n",
            "Epoch [18/25], Average Loss: 0.1374, Accuracy: 95.06%\n",
            "Epoch [19/25], Batch [100/500], Loss: 0.0811\n",
            "Epoch [19/25], Batch [200/500], Loss: 0.1332\n",
            "Epoch [19/25], Batch [300/500], Loss: 0.1182\n",
            "Epoch [19/25], Batch [400/500], Loss: 0.2581\n",
            "Epoch [19/25], Batch [500/500], Loss: 0.1289\n",
            "Epoch [19/25], Average Loss: 0.1307, Accuracy: 95.40%\n",
            "Epoch [20/25], Batch [100/500], Loss: 0.0579\n",
            "Epoch [20/25], Batch [200/500], Loss: 0.1016\n",
            "Epoch [20/25], Batch [300/500], Loss: 0.1999\n",
            "Epoch [20/25], Batch [400/500], Loss: 0.1580\n",
            "Epoch [20/25], Batch [500/500], Loss: 0.2878\n",
            "Epoch [20/25], Average Loss: 0.1231, Accuracy: 95.73%\n",
            "Epoch [21/25], Batch [100/500], Loss: 0.1859\n",
            "Epoch [21/25], Batch [200/500], Loss: 0.1176\n",
            "Epoch [21/25], Batch [300/500], Loss: 0.0903\n",
            "Epoch [21/25], Batch [400/500], Loss: 0.0964\n",
            "Epoch [21/25], Batch [500/500], Loss: 0.1077\n",
            "Epoch [21/25], Average Loss: 0.1059, Accuracy: 96.38%\n",
            "Epoch [22/25], Batch [100/500], Loss: 0.0255\n",
            "Epoch [22/25], Batch [200/500], Loss: 0.1401\n",
            "Epoch [22/25], Batch [300/500], Loss: 0.1370\n",
            "Epoch [22/25], Batch [400/500], Loss: 0.1387\n",
            "Epoch [22/25], Batch [500/500], Loss: 0.2278\n",
            "Epoch [22/25], Average Loss: 0.1078, Accuracy: 96.28%\n",
            "Epoch [23/25], Batch [100/500], Loss: 0.1316\n",
            "Epoch [23/25], Batch [200/500], Loss: 0.1863\n",
            "Epoch [23/25], Batch [300/500], Loss: 0.0680\n",
            "Epoch [23/25], Batch [400/500], Loss: 0.1674\n",
            "Epoch [23/25], Batch [500/500], Loss: 0.1021\n",
            "Epoch [23/25], Average Loss: 0.1066, Accuracy: 96.29%\n",
            "Epoch [24/25], Batch [100/500], Loss: 0.1037\n",
            "Epoch [24/25], Batch [200/500], Loss: 0.2668\n",
            "Epoch [24/25], Batch [300/500], Loss: 0.1872\n",
            "Epoch [24/25], Batch [400/500], Loss: 0.1376\n",
            "Epoch [24/25], Batch [500/500], Loss: 0.1045\n",
            "Epoch [24/25], Average Loss: 0.0959, Accuracy: 96.67%\n",
            "Epoch [25/25], Batch [100/500], Loss: 0.0359\n",
            "Epoch [25/25], Batch [200/500], Loss: 0.0813\n",
            "Epoch [25/25], Batch [300/500], Loss: 0.2063\n",
            "Epoch [25/25], Batch [400/500], Loss: 0.0454\n",
            "Epoch [25/25], Batch [500/500], Loss: 0.0468\n",
            "Epoch [25/25], Average Loss: 0.0954, Accuracy: 96.81%\n"
          ]
        }
      ],
      "source": [
        "model = CNNWith5HiddenLayers().to(device)\n",
        "\n",
        "\n",
        "# Load the CIFAR-10 dataset\n",
        "\n",
        "criterion = nn.CrossEntropyLoss()\n",
        "optimizer = optim.Adam(model.parameters(), lr=0.001)\n",
        "\n",
        "\n",
        "# Train the model\n",
        "train_loss, train_accuracy = train_model(model, trainloader, criterion, optimizer, device, epochs=25)\n"
      ]
    },
    {
      "cell_type": "code",
      "execution_count": 10,
      "metadata": {
        "colab": {
          "base_uri": "https://localhost:8080/",
          "height": 548
        },
        "id": "KCxOm8Io4hyu",
        "outputId": "93243364-612a-4d2e-ecb9-f3f2bc9a7c50"
      },
      "outputs": [
        {
          "name": "stdout",
          "output_type": "stream",
          "text": [
            "AUC scores for each class: [0.9739484444444445, 0.9861745, 0.9381387222222223, 0.9105694444444445, 0.9557762222222222, 0.9353716666666667, 0.9733944999999999, 0.9748027777777777, 0.9850548333333333, 0.9795935000000001]\n",
            "Accuracy: 74.01%\n",
            "Mean AUC: 0.9612824611111112\n"
          ]
        },
        {
          "data": {
            "image/png": "[encoded data removed]",
            "text/plain": [
              "<Figure size 1200x500 with 2 Axes>"
            ]
          },
          "metadata": {},
          "output_type": "display_data"
        }
      ],
      "source": [
        "# Evaluate the model\n",
        "auc = evaluate_model(model, testloader, device)\n",
        "print(f\"Mean AUC: {auc}\")\n",
        "\n",
        "# Plot the training loss and accuracy\n",
        "epochs = range(1, 26)\n",
        "plt.figure(figsize=(12, 5))\n",
        "\n",
        "plt.subplot(1, 2, 1)\n",
        "plt.plot(epochs, train_loss, 'b', label='Training Loss')\n",
        "plt.title('Training Loss')\n",
        "plt.xlabel('Epochs')\n",
        "plt.ylabel('Loss')\n",
        "plt.legend()\n",
        "\n",
        "plt.subplot(1, 2, 2)\n",
        "plt.plot(epochs, train_accuracy, 'b', label='Training Accuracy')\n",
        "plt.title('Training Accuracy')\n",
        "plt.xlabel('Epochs')\n",
        "plt.ylabel('Accuracy')\n",
        "plt.legend()\n",
        "\n",
        "plt.tight_layout()\n",
        "plt.show()\n"
      ]
    },
    {
      "cell_type": "code",
      "execution_count": 11,
      "metadata": {
        "id": "L6WrbIYC9PU2"
      },
      "outputs": [],
      "source": [
        "def fgsm_attack(model, image, label, epsilon):\n",
        "    # Make sure to set the requires_grad to True so you can get the gradient\n",
        "    image.requires_grad = True\n",
        "\n",
        "    # Forward pass the data through the model\n",
        "    output = model(image)\n",
        "    loss = torch.nn.functional.cross_entropy(output, label)\n",
        "\n",
        "    # Zero all existing gradients\n",
        "    model.zero_grad()\n",
        "\n",
        "    # Calculate gradients of model in backward pass\n",
        "    loss.backward()\n",
        "\n",
        "    # Collect the image gradient\n",
        "    image_grad = image.grad.data\n",
        "\n",
        "    # Create the FGSM attack by obtaining the sign of the gradient\n",
        "    sign_image_grad = image_grad.sign()\n",
        "    perturbed_image = image + epsilon * sign_image_grad\n",
        "    perturbed_image = torch.clamp(perturbed_image, 0, 1)\n",
        "\n",
        "    return perturbed_image"
      ]
    },
    {
      "cell_type": "code",
      "execution_count": 12,
      "metadata": {
        "colab": {
          "base_uri": "https://localhost:8080/"
        },
        "id": "_w1tbdR59Xxe",
        "outputId": "9bc153ed-1366-4518-d9e2-7a0575274f2b"
      },
      "outputs": [
        {
          "name": "stdout",
          "output_type": "stream",
          "text": [
            "Perturbed image with epsilon 0.001 saved in 'perturbed/perturbed_image_epsilon_0.001.png'\n",
            "Perturbed image with epsilon 0.002 saved in 'perturbed/perturbed_image_epsilon_0.002.png'\n",
            "Perturbed image with epsilon 0.005 saved in 'perturbed/perturbed_image_epsilon_0.005.png'\n",
            "All perturbed images saved.\n"
          ]
        }
      ],
      "source": [
        "import os\n",
        "import torch\n",
        "import torch.nn.functional as F\n",
        "from torchvision.utils import save_image\n",
        "\n",
        "# Define the FGSM attack function\n",
        "def fgsm_attack(model, image, label, epsilon):\n",
        "    # Set requires_grad attribute of tensor. Important for Attack\n",
        "    image.requires_grad = True\n",
        "\n",
        "    # Forward pass the image through the model\n",
        "    output = model(image)\n",
        "    loss = criterion(output, label)\n",
        "\n",
        "    # Zero all existing gradients\n",
        "    model.zero_grad()\n",
        "\n",
        "    # Calculate gradients of model in backward pass\n",
        "    loss.backward()\n",
        "\n",
        "    # Collect the element-wise sign of the data gradient\n",
        "    sign_data_grad = image.grad.data.sign()\n",
        "\n",
        "    # Create the perturbed image by adjusting each pixel of the input image\n",
        "    perturbed_image = image + epsilon * sign_data_grad\n",
        "\n",
        "    # Adding clipping to maintain [0,1] range\n",
        "    perturbed_image = torch.clamp(perturbed_image, 0, 1)\n",
        "\n",
        "    return perturbed_image\n",
        "\n",
        "# Load a sample image from the test dataset\n",
        "dataiter = iter(testloader)\n",
        "images, labels = next(dataiter)\n",
        "images, labels = images.to(device), labels.to(device)\n",
        "\n",
        "# Use the first image in the batch for the attack\n",
        "image = images[0].unsqueeze(0)\n",
        "label = labels[0].unsqueeze(0)\n",
        "\n",
        "# Define epsilon values for the FGSM attack\n",
        "epsilons = [0.001, 0.002, 0.005]\n",
        "\n",
        "# Create a directory to save the perturbed images if it doesn't exist\n",
        "os.makedirs('perturbed', exist_ok=True)\n",
        "\n",
        "# Apply the FGSM attack for each epsilon and save the perturbed image\n",
        "for epsilon in epsilons:\n",
        "    perturbed_image = fgsm_attack(model, image, label, epsilon)\n",
        "    filename = f'perturbed/perturbed_image_epsilon_{epsilon}.png'\n",
        "    save_image(perturbed_image, filename)\n",
        "    print(f\"Perturbed image with epsilon {epsilon} saved in '{filename}'\")\n",
        "\n",
        "print(\"All perturbed images saved.\")\n",
        "#Save also the mask"
      ]
    },
    {
      "cell_type": "code",
      "execution_count": 13,
      "metadata": {
        "id": "RfE34HaR9Yew"
      },
      "outputs": [],
      "source": [
        "from PIL import Image\n",
        "\n",
        "\n",
        "image = Image.open('./perturbed/perturbed_image_epsilon_0.001.png')\n",
        "new_image = image.resize((500, 500))\n",
        "new_image.save('myimage_500.jpg')"
      ]
    },
    {
      "cell_type": "code",
      "execution_count": 14,
      "metadata": {
        "id": "jL--uQ5-go6i"
      },
      "outputs": [],
      "source": [
        "def fgsm_attack(image, epsilon, data_grad):\n",
        "    # Collect the element-wise sign of the data gradient\n",
        "    sign_data_grad = data_grad.sign()\n",
        "    # Create the perturbed image by adjusting each pixel of the input image\n",
        "    perturbed_image = image + epsilon*sign_data_grad\n",
        "    # Adding clipping to maintain [0,1] range\n",
        "    perturbed_image = torch.clamp(perturbed_image, 0, 1)\n",
        "    # Return the perturbed image\n",
        "    return perturbed_image\n",
        "\n",
        "def get_mask(image,perturbed_image):\n",
        "  return perturbed_image - image\n",
        "\n",
        "# restores the tensors to their original scale\n",
        "def denorm(batch, mean=[0.1307], std=[0.3081]):\n",
        "    \"\"\"\n",
        "    Convert a batch of tensors to their original scale.\n",
        "\n",
        "    Args:\n",
        "        batch (torch.Tensor): Batch of normalized tensors.\n",
        "        mean (torch.Tensor or list): Mean used for normalization.\n",
        "        std (torch.Tensor or list): Standard deviation used for normalization.\n",
        "\n",
        "    Returns:\n",
        "        torch.Tensor: batch of tensors without normalization applied to them.\n",
        "    \"\"\"\n",
        "    if isinstance(mean, list):\n",
        "        mean = torch.tensor(mean).to(device)\n",
        "    if isinstance(std, list):\n",
        "        std = torch.tensor(std).to(device)\n",
        "\n",
        "    return batch * std.view(1, -1, 1, 1) + mean.view(1, -1, 1, 1)"
      ]
    },
    {
      "cell_type": "code",
      "execution_count": 15,
      "metadata": {
        "id": "Yv9RRo6xhmqX"
      },
      "outputs": [],
      "source": [
        "import os\n",
        "# from minio import Minio\n",
        "# from minio.error import S3Error\n",
        "\n",
        "# minio_client = Minio(\"localhost:9000\",\n",
        "#         access_key=\"N18PI0XRzRbLKB8il7Uk\",\n",
        "#         secret_key=\"8EdhMimLnfe4mYVVYw3BVWPgP7Z5jVagoz79LqEs\",\n",
        "#         secure=False\n",
        "#     )\n",
        "\n",
        "# def save_and_upload(data_tensor, filename, bucket_name):\n",
        "#     # Convert tensor to PIL Image\n",
        "#     image = transforms.ToPILImage()(data_tensor)\n",
        "#     img_byte_arr = io.BytesIO()\n",
        "#     image.save(img_byte_arr, format='PNG')\n",
        "#     img_byte_arr = img_byte_arr.getvalue()\n",
        "\n",
        "#     try:\n",
        "#         minio_client.put_object(\n",
        "#             bucket_name,\n",
        "#             filename,\n",
        "#             io.BytesIO(img_byte_arr),\n",
        "#             len(img_byte_arr),\n",
        "#             content_type='image/png'\n",
        "#         )\n",
        "#         print(f\"Uploaded {filename} successfully.\")\n",
        "#     except S3Error as e:\n",
        "#         print(f\"Failed to upload {filename}: {e}\")\n",
        "\n",
        "\n",
        "def test( model, device, test_loader, epsilon ):\n",
        "\n",
        "    # Accuracy counter\n",
        "    correct = 0\n",
        "    adv_examples = []\n",
        "\n",
        "    # Loop over all examples in test set\n",
        "    for data, target in test_loader:\n",
        "\n",
        "        # Send the data and label to the device\n",
        "        data, target = data.to(device), target.to(device)\n",
        "\n",
        "        # Set requires_grad attribute of tensor. Important for Attack\n",
        "        data.requires_grad = True\n",
        "\n",
        "        # Forward pass the data through the model\n",
        "        output = model(data)\n",
        "        init_pred = output.max(1, keepdim=True)[1] # get the index of the max log-probability\n",
        "\n",
        "        # If the initial prediction is wrong, don't bother attacking, just move on\n",
        "        if init_pred.item() != target.item():\n",
        "            image_denorm = denorm(data)\n",
        "            # Implement the saving function here, for example:\n",
        "            torch.save(image_denorm, f'./perturbed/init_pred_{init_pred.item()}_target_{target.item()}.pt')\n",
        "\n",
        "            # in loc de continue,save image init pred.item.target,target\n",
        "            # target.item este pentru a nu imi da tensor\n",
        "\n",
        "\n",
        "        # Calculate the loss\n",
        "        loss = F.nll_loss(output, target)\n",
        "\n",
        "        # Zero all existing gradients\n",
        "        model.zero_grad()\n",
        "\n",
        "        # Calculate gradients of model in backward pass\n",
        "        loss.backward()\n",
        "\n",
        "        # Collect ``datagrad``\n",
        "        data_grad = data.grad.data\n",
        "\n",
        "        # Restore the data to its original scale\n",
        "        data_denorm = denorm(data)\n",
        "\n",
        "        # Call FGSM Attack\n",
        "        perturbed_data = fgsm_attack(data_denorm, epsilon, data_grad)\n",
        "\n",
        "\n",
        "        # Reapply normalization\n",
        "        perturbed_data_normalized = transforms.Normalize((0.1307,), (0.3081,))(perturbed_data)\n",
        "\n",
        "        #Test regarding perturbed_data_normalized. scoate ulterior\n",
        "\n",
        "        #save the mask and the perturbed data normalize\n",
        "\n",
        "        # Re-classify the perturbed image\n",
        "        output = model(perturbed_data_normalized)\n",
        "\n",
        "        # Check for success\n",
        "        final_pred = output.max(1, keepdim=True)[1] # get the index of the max log-probability\n",
        "\n",
        "        #salveaza final_pred si target\n",
        "        #pt sql imi trebuie de salvat pe hard path,imaginile si epsilon(doar daca se perturbeaza)\n",
        "\n",
        "    #streamlit sa aiba un input pentru epsilon\n"
      ]
    },
    {
      "cell_type": "code",
      "execution_count": 16,
      "metadata": {
        "id": "ALKs9z62hvpj"
      },
      "outputs": [],
      "source": [
        "test( model, device, adversarial_testloader, epsilon=0.001 )"
      ]
    },
    {
      "cell_type": "code",
      "execution_count": 26,
      "metadata": {},
      "outputs": [],
      "source": [
        "scripted_model = torch.jit.script(model)\n",
        "\n",
        "# Save the scripted model\n",
        "torch.jit.save(scripted_model, 'scripted_cnn_model.pth')"
      ]
    },
    {
      "cell_type": "code",
      "execution_count": 24,
      "metadata": {},
      "outputs": [
        {
          "data": {
            "text/plain": [
              "CNNWith5HiddenLayers(\n",
              "  (conv1): Conv2d(3, 32, kernel_size=(3, 3), stride=(1, 1), padding=(1, 1))\n",
              "  (conv2): Conv2d(32, 64, kernel_size=(3, 3), stride=(1, 1), padding=(1, 1))\n",
              "  (conv3): Conv2d(64, 128, kernel_size=(3, 3), stride=(1, 1), padding=(1, 1))\n",
              "  (conv4): Conv2d(128, 256, kernel_size=(3, 3), stride=(1, 1), padding=(1, 1))\n",
              "  (pool): MaxPool2d(kernel_size=2, stride=2, padding=0, dilation=1, ceil_mode=False)\n",
              "  (fc1): Linear(in_features=1024, out_features=512, bias=True)\n",
              "  (fc2): Linear(in_features=512, out_features=10, bias=True)\n",
              "  (relu): ReLU()\n",
              "  (dropout): Dropout(p=0.5, inplace=False)\n",
              ")"
            ]
          },
          "execution_count": 24,
          "metadata": {},
          "output_type": "execute_result"
        }
      ],
      "source": []
    },
    {
      "cell_type": "code",
      "execution_count": 25,
      "metadata": {},
      "outputs": [
        {
          "name": "stdout",
          "output_type": "stream",
          "text": [
            "Downloading https://www.cs.toronto.edu/~kriz/cifar-100-python.tar.gz to ./data\\cifar-100-python.tar.gz\n"
          ]
        },
        {
          "name": "stderr",
          "output_type": "stream",
          "text": [
            "100%|██████████| 169001437/169001437 [00:19<00:00, 8783450.96it/s] \n"
          ]
        },
        {
          "name": "stdout",
          "output_type": "stream",
          "text": [
            "Extracting ./data\\cifar-100-python.tar.gz to ./data\n",
            "Accuracy of the model on the dataset: 1.10%\n"
          ]
        }
      ],
      "source": [
        "import torch\n",
        "import torch.nn as nn\n",
        "from torchvision import datasets, transforms\n",
        "from torch.utils.data import DataLoader\n",
        "import torchvision.models as models\n",
        "\n",
        "def load_model(model_path, is_whole_model=True):\n",
        "    if is_whole_model:\n",
        "        model = torch.load(model_path)\n",
        "    \n",
        "    model.eval()\n",
        "    return model\n",
        "def load_dataset(dataset_path, batch_size=4):\n",
        "    transform = transforms.Compose([\n",
        "        transforms.Resize((32, 32)),\n",
        "        transforms.ToTensor(),\n",
        "        transforms.Normalize((0.507, 0.487, 0.441), (0.267, 0.256, 0.276))  # CIFAR-100 normalization\n",
        "    ])\n",
        "    dataset = datasets.CIFAR100(root=dataset_path, train=False, download=True, transform=transform)\n",
        "    dataloader = DataLoader(dataset, batch_size=batch_size, shuffle=True)\n",
        "    return dataloader\n",
        "\n",
        "def evaluate_model(model, dataloader, device='cpu'):\n",
        "    model.to(device)\n",
        "    correct = 0\n",
        "    total = 0\n",
        "    with torch.no_grad():\n",
        "        for images, labels in dataloader:\n",
        "            images, labels = images.to(device), labels.to(device)\n",
        "            outputs = model(images)\n",
        "            _, predicted = torch.max(outputs.data, 1)\n",
        "            total += labels.size(0)\n",
        "            correct += (predicted == labels).sum().item()\n",
        "\n",
        "    accuracy = 100 * correct / total\n",
        "    print(f'Accuracy of the model on the dataset: {accuracy:.2f}%')\n",
        "\n",
        "if __name__ == \"__main__\":\n",
        "    model_path = 'full_model.pth'  # or 'model_state_dict.pth'\n",
        "    is_whole_model = True  # Change this based on how you saved your model\n",
        "    dataset_path = './data'  # Local path for downloading/storing CIFAR-100\n",
        "\n",
        "    model = load_model(model_path, is_whole_model=is_whole_model)\n",
        "    dataloader = load_dataset(dataset_path)\n",
        "    evaluate_model(model, dataloader, device='cuda' if torch.cuda.is_available() else 'cpu')"
      ]
    },
    {
      "cell_type": "code",
      "execution_count": null,
      "metadata": {},
      "outputs": [],
      "source": []
    }
  ],
  "metadata": {
    "accelerator": "GPU",
    "colab": {
      "gpuType": "T4",
      "provenance": []
    },
    "kernelspec": {
      "display_name": "Python 3",
      "name": "python3"
    },
    "language_info": {
      "codemirror_mode": {
        "name": "ipython",
        "version": 3
      },
      "file_extension": ".py",
      "mimetype": "text/x-python",
      "name": "python",
      "nbconvert_exporter": "python",
      "pygments_lexer": "ipython3",
      "version": "3.12.2"
    }
  },
  "nbformat": 4,
  "nbformat_minor": 0
}
